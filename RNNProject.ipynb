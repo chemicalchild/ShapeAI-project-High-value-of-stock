{
  "nbformat": 4,
  "nbformat_minor": 0,
  "metadata": {
    "colab": {
      "name": "RNNProject.ipynb",
      "provenance": [],
      "collapsed_sections": [],
      "authorship_tag": "ABX9TyO5hNyPfJ0GnUVnJ9trTRdK",
      "include_colab_link": true
    },
    "kernelspec": {
      "name": "python3",
      "display_name": "Python 3"
    },
    "language_info": {
      "name": "python"
    }
  },
  "cells": [
    {
      "cell_type": "markdown",
      "metadata": {
        "id": "view-in-github",
        "colab_type": "text"
      },
      "source": [
        "<a href=\"https://colab.research.google.com/github/chemicalchild/ShapeAI-project-High-value-of-stock/blob/main/RNNProject.ipynb\" target=\"_parent\"><img src=\"https://colab.research.google.com/assets/colab-badge.svg\" alt=\"Open In Colab\"/></a>"
      ]
    },
    {
      "cell_type": "code",
      "metadata": {
        "id": "M5yQ6PE8bLDS"
      },
      "source": [
        "import numpy as np\n",
        "import pandas as pd #alias\n"
      ],
      "execution_count": 295,
      "outputs": []
    },
    {
      "cell_type": "code",
      "metadata": {
        "id": "bJvhaL4d7wrN"
      },
      "source": [
        "path =\"/content/Uniqlo(FastRetailing) 2012-2016 Training - stocks2012-2016.csv\"\n",
        "df = pd.read_csv(path)"
      ],
      "execution_count": 296,
      "outputs": []
    },
    {
      "cell_type": "code",
      "metadata": {
        "id": "a2Pp1U8pe55b",
        "colab": {
          "base_uri": "https://localhost:8080/",
          "height": 204
        },
        "outputId": "fa18e543-9377-4689-b525-7e82fff536ec"
      },
      "source": [
        "df.head() #show first few rows of data"
      ],
      "execution_count": 297,
      "outputs": [
        {
          "output_type": "execute_result",
          "data": {
            "text/html": [
              "<div>\n",
              "<style scoped>\n",
              "    .dataframe tbody tr th:only-of-type {\n",
              "        vertical-align: middle;\n",
              "    }\n",
              "\n",
              "    .dataframe tbody tr th {\n",
              "        vertical-align: top;\n",
              "    }\n",
              "\n",
              "    .dataframe thead th {\n",
              "        text-align: right;\n",
              "    }\n",
              "</style>\n",
              "<table border=\"1\" class=\"dataframe\">\n",
              "  <thead>\n",
              "    <tr style=\"text-align: right;\">\n",
              "      <th></th>\n",
              "      <th>Date</th>\n",
              "      <th>Open</th>\n",
              "      <th>High</th>\n",
              "      <th>Low</th>\n",
              "      <th>Close</th>\n",
              "      <th>Volume</th>\n",
              "      <th>Stock Trading</th>\n",
              "    </tr>\n",
              "  </thead>\n",
              "  <tbody>\n",
              "    <tr>\n",
              "      <th>0</th>\n",
              "      <td>2016-12-30</td>\n",
              "      <td>42120</td>\n",
              "      <td>42330</td>\n",
              "      <td>41700</td>\n",
              "      <td>41830</td>\n",
              "      <td>610000</td>\n",
              "      <td>25628028000</td>\n",
              "    </tr>\n",
              "    <tr>\n",
              "      <th>1</th>\n",
              "      <td>2016-12-29</td>\n",
              "      <td>43000</td>\n",
              "      <td>43220</td>\n",
              "      <td>42540</td>\n",
              "      <td>42660</td>\n",
              "      <td>448400</td>\n",
              "      <td>19188227000</td>\n",
              "    </tr>\n",
              "    <tr>\n",
              "      <th>2</th>\n",
              "      <td>2016-12-28</td>\n",
              "      <td>43940</td>\n",
              "      <td>43970</td>\n",
              "      <td>43270</td>\n",
              "      <td>43270</td>\n",
              "      <td>339900</td>\n",
              "      <td>14780670000</td>\n",
              "    </tr>\n",
              "    <tr>\n",
              "      <th>3</th>\n",
              "      <td>2016-12-27</td>\n",
              "      <td>43140</td>\n",
              "      <td>43700</td>\n",
              "      <td>43140</td>\n",
              "      <td>43620</td>\n",
              "      <td>400100</td>\n",
              "      <td>17427993000</td>\n",
              "    </tr>\n",
              "    <tr>\n",
              "      <th>4</th>\n",
              "      <td>2016-12-26</td>\n",
              "      <td>43310</td>\n",
              "      <td>43660</td>\n",
              "      <td>43090</td>\n",
              "      <td>43340</td>\n",
              "      <td>358200</td>\n",
              "      <td>15547803000</td>\n",
              "    </tr>\n",
              "  </tbody>\n",
              "</table>\n",
              "</div>"
            ],
            "text/plain": [
              "         Date   Open   High    Low  Close  Volume  Stock Trading\n",
              "0  2016-12-30  42120  42330  41700  41830  610000    25628028000\n",
              "1  2016-12-29  43000  43220  42540  42660  448400    19188227000\n",
              "2  2016-12-28  43940  43970  43270  43270  339900    14780670000\n",
              "3  2016-12-27  43140  43700  43140  43620  400100    17427993000\n",
              "4  2016-12-26  43310  43660  43090  43340  358200    15547803000"
            ]
          },
          "metadata": {},
          "execution_count": 297
        }
      ]
    },
    {
      "cell_type": "code",
      "metadata": {
        "id": "Ok91KgEGe82c",
        "colab": {
          "base_uri": "https://localhost:8080/",
          "height": 204
        },
        "outputId": "aeb20d7b-0b85-4f3f-949b-581e86d50743"
      },
      "source": [
        "df.tail() #show last set of rows of data"
      ],
      "execution_count": 298,
      "outputs": [
        {
          "output_type": "execute_result",
          "data": {
            "text/html": [
              "<div>\n",
              "<style scoped>\n",
              "    .dataframe tbody tr th:only-of-type {\n",
              "        vertical-align: middle;\n",
              "    }\n",
              "\n",
              "    .dataframe tbody tr th {\n",
              "        vertical-align: top;\n",
              "    }\n",
              "\n",
              "    .dataframe thead th {\n",
              "        text-align: right;\n",
              "    }\n",
              "</style>\n",
              "<table border=\"1\" class=\"dataframe\">\n",
              "  <thead>\n",
              "    <tr style=\"text-align: right;\">\n",
              "      <th></th>\n",
              "      <th>Date</th>\n",
              "      <th>Open</th>\n",
              "      <th>High</th>\n",
              "      <th>Low</th>\n",
              "      <th>Close</th>\n",
              "      <th>Volume</th>\n",
              "      <th>Stock Trading</th>\n",
              "    </tr>\n",
              "  </thead>\n",
              "  <tbody>\n",
              "    <tr>\n",
              "      <th>1221</th>\n",
              "      <td>2012-01-11</td>\n",
              "      <td>14360</td>\n",
              "      <td>14750</td>\n",
              "      <td>14280</td>\n",
              "      <td>14590</td>\n",
              "      <td>1043400</td>\n",
              "      <td>15191988000</td>\n",
              "    </tr>\n",
              "    <tr>\n",
              "      <th>1222</th>\n",
              "      <td>2012-01-10</td>\n",
              "      <td>13890</td>\n",
              "      <td>14390</td>\n",
              "      <td>13860</td>\n",
              "      <td>14390</td>\n",
              "      <td>952300</td>\n",
              "      <td>13533413000</td>\n",
              "    </tr>\n",
              "    <tr>\n",
              "      <th>1223</th>\n",
              "      <td>2012-01-06</td>\n",
              "      <td>13990</td>\n",
              "      <td>14030</td>\n",
              "      <td>13790</td>\n",
              "      <td>13850</td>\n",
              "      <td>765500</td>\n",
              "      <td>10635609000</td>\n",
              "    </tr>\n",
              "    <tr>\n",
              "      <th>1224</th>\n",
              "      <td>2012-01-05</td>\n",
              "      <td>13720</td>\n",
              "      <td>13840</td>\n",
              "      <td>13600</td>\n",
              "      <td>13800</td>\n",
              "      <td>511500</td>\n",
              "      <td>7030811000</td>\n",
              "    </tr>\n",
              "    <tr>\n",
              "      <th>1225</th>\n",
              "      <td>2012-01-04</td>\n",
              "      <td>14050</td>\n",
              "      <td>14050</td>\n",
              "      <td>13700</td>\n",
              "      <td>13720</td>\n",
              "      <td>559100</td>\n",
              "      <td>7719804000</td>\n",
              "    </tr>\n",
              "  </tbody>\n",
              "</table>\n",
              "</div>"
            ],
            "text/plain": [
              "            Date   Open   High    Low  Close   Volume  Stock Trading\n",
              "1221  2012-01-11  14360  14750  14280  14590  1043400    15191988000\n",
              "1222  2012-01-10  13890  14390  13860  14390   952300    13533413000\n",
              "1223  2012-01-06  13990  14030  13790  13850   765500    10635609000\n",
              "1224  2012-01-05  13720  13840  13600  13800   511500     7030811000\n",
              "1225  2012-01-04  14050  14050  13700  13720   559100     7719804000"
            ]
          },
          "metadata": {},
          "execution_count": 298
        }
      ]
    },
    {
      "cell_type": "code",
      "metadata": {
        "id": "YHlII0vafXVB",
        "colab": {
          "base_uri": "https://localhost:8080/"
        },
        "outputId": "84ec41dc-437b-4517-97a9-507176ce89c6"
      },
      "source": [
        "df = df['High'] #select data in open column only \n",
        "df.head()"
      ],
      "execution_count": 299,
      "outputs": [
        {
          "output_type": "execute_result",
          "data": {
            "text/plain": [
              "0    42330\n",
              "1    43220\n",
              "2    43970\n",
              "3    43700\n",
              "4    43660\n",
              "Name: High, dtype: int64"
            ]
          },
          "metadata": {},
          "execution_count": 299
        }
      ]
    },
    {
      "cell_type": "code",
      "metadata": {
        "id": "qTHq3aLCg4LA"
      },
      "source": [
        "import matplotlib.pyplot as plt #import library for math plot \n",
        "\n",
        "def plot_series(data):\n",
        "\n",
        "  for do in data:\n",
        "    plt.plot(df)\n",
        "  plt.show() "
      ],
      "execution_count": 300,
      "outputs": []
    },
    {
      "cell_type": "code",
      "metadata": {
        "id": "Bjcdp7r0iGXm"
      },
      "source": [
        "train = df[ :int(0.8*len(df))] #split data set 80%\n",
        "test = df[int(0.8*len(df)): ] #split data set 20%"
      ],
      "execution_count": 301,
      "outputs": []
    },
    {
      "cell_type": "code",
      "metadata": {
        "id": "RmT7h0J7kAcg"
      },
      "source": [
        "#reshape data to be fed int RNN\n",
        "def arrange(data, window=10):\n",
        "\n",
        "  x=[]\n",
        "  y=[]\n",
        "\n",
        "  for i, val in enumerate(data): #loop through data \n",
        "    if i<window:  #if i is not up to specified number in window \n",
        "\n",
        "      continue \n",
        "\n",
        "    x.append(data[i-window: i-1].values.reshape(-1, 1))\n",
        "    y.append(data[i:i+1].values.reshape(-1, 1))\n",
        "\n",
        "    x= np.asarray(x)\n",
        "    y=np.asarray(y)\n",
        "\n",
        "    return x,y  "
      ],
      "execution_count": 302,
      "outputs": []
    },
    {
      "cell_type": "code",
      "metadata": {
        "colab": {
          "base_uri": "https://localhost:8080/"
        },
        "id": "e0NqJYleoTlH",
        "outputId": "e7ca6d77-9e73-42ff-b29f-79274c7772d4"
      },
      "source": [
        "x_train, y_train = arrange(train, 15)\n",
        "\n",
        "print (\"x-shape is: {} and  y-shape is: {}\".format(x_train.shape, y_train.shape))"
      ],
      "execution_count": 303,
      "outputs": [
        {
          "output_type": "stream",
          "text": [
            "x-shape is: (1, 14, 1) and  y-shape is: (1, 1, 1)\n"
          ],
          "name": "stdout"
        }
      ]
    },
    {
      "cell_type": "code",
      "metadata": {
        "colab": {
          "base_uri": "https://localhost:8080/"
        },
        "id": "-xISrST4KC21",
        "outputId": "c22d6839-c755-44b0-e8f9-f2ae3e021663"
      },
      "source": [
        "print(x_train[0])\n",
        "print(y_train[0])\n"
      ],
      "execution_count": 304,
      "outputs": [
        {
          "output_type": "stream",
          "text": [
            "[[42330]\n",
            " [43220]\n",
            " [43970]\n",
            " [43700]\n",
            " [43660]\n",
            " [43840]\n",
            " [44370]\n",
            " [43630]\n",
            " [43150]\n",
            " [43550]\n",
            " [43880]\n",
            " [43440]\n",
            " [43300]\n",
            " [44000]]\n",
            "[[41560]]\n"
          ],
          "name": "stdout"
        }
      ]
    },
    {
      "cell_type": "code",
      "metadata": {
        "id": "EvEwq3_pRNSs"
      },
      "source": [
        "#building model \n",
        "\n",
        "import tensorflow as tf \n",
        "from tensorflow import keras\n",
        "from keras.models import Sequential \n",
        "from keras.layers import SimpleRNN, Dense, Input"
      ],
      "execution_count": 305,
      "outputs": []
    },
    {
      "cell_type": "code",
      "metadata": {
        "id": "MRGgmiX5V1n0",
        "colab": {
          "base_uri": "https://localhost:8080/"
        },
        "outputId": "79bb08de-9016-422f-ab53-b0390aadbcb0"
      },
      "source": [
        "x_train.shape[1:]"
      ],
      "execution_count": 306,
      "outputs": [
        {
          "output_type": "execute_result",
          "data": {
            "text/plain": [
              "(14, 1)"
            ]
          },
          "metadata": {},
          "execution_count": 306
        }
      ]
    },
    {
      "cell_type": "code",
      "metadata": {
        "id": "KS8VBy68R-pr",
        "colab": {
          "base_uri": "https://localhost:8080/"
        },
        "outputId": "cbe38bd1-fc9d-42e2-b60a-1c11eb476970"
      },
      "source": [
        "Netp = Sequential()\n",
        "Netp.add(SimpleRNN(3, activation='relu', input_shape=x_train.shape[1:] ))\n",
        "Netp.add(Dense(1, activation=\"relu\"))\n",
        "\n",
        "\n",
        "Netp.summary()"
      ],
      "execution_count": 307,
      "outputs": [
        {
          "output_type": "stream",
          "text": [
            "Model: \"sequential_13\"\n",
            "_________________________________________________________________\n",
            "Layer (type)                 Output Shape              Param #   \n",
            "=================================================================\n",
            "simple_rnn_13 (SimpleRNN)    (None, 3)                 15        \n",
            "_________________________________________________________________\n",
            "dense_13 (Dense)             (None, 1)                 4         \n",
            "=================================================================\n",
            "Total params: 19\n",
            "Trainable params: 19\n",
            "Non-trainable params: 0\n",
            "_________________________________________________________________\n"
          ],
          "name": "stdout"
        }
      ]
    },
    {
      "cell_type": "code",
      "metadata": {
        "id": "TGesesH2Z4Le"
      },
      "source": [
        "Netp.compile(loss ='mean_squared_error', optimizer ='adam',  metrics=['mse'])"
      ],
      "execution_count": 308,
      "outputs": []
    },
    {
      "cell_type": "code",
      "metadata": {
        "id": "g35o6jfBaVlo",
        "colab": {
          "base_uri": "https://localhost:8080/"
        },
        "outputId": "afc3bea4-5c46-43ab-e0bd-9a1514a47058"
      },
      "source": [
        "Netp.fit(x_train, y_train, epochs=10)"
      ],
      "execution_count": 309,
      "outputs": [
        {
          "output_type": "stream",
          "text": [
            "Epoch 1/10\n",
            "1/1 [==============================] - 1s 802ms/step - loss: 1727233536.0000 - mse: 1727233536.0000\n",
            "Epoch 2/10\n",
            "1/1 [==============================] - 0s 9ms/step - loss: 1727233536.0000 - mse: 1727233536.0000\n",
            "Epoch 3/10\n",
            "1/1 [==============================] - 0s 7ms/step - loss: 1727233536.0000 - mse: 1727233536.0000\n",
            "Epoch 4/10\n",
            "1/1 [==============================] - 0s 7ms/step - loss: 1727233536.0000 - mse: 1727233536.0000\n",
            "Epoch 5/10\n",
            "1/1 [==============================] - 0s 27ms/step - loss: 1727233536.0000 - mse: 1727233536.0000\n",
            "Epoch 6/10\n",
            "1/1 [==============================] - 0s 10ms/step - loss: 1727233536.0000 - mse: 1727233536.0000\n",
            "Epoch 7/10\n",
            "1/1 [==============================] - 0s 8ms/step - loss: 1727233536.0000 - mse: 1727233536.0000\n",
            "Epoch 8/10\n",
            "1/1 [==============================] - 0s 7ms/step - loss: 1727233536.0000 - mse: 1727233536.0000\n",
            "Epoch 9/10\n",
            "1/1 [==============================] - 0s 7ms/step - loss: 1727233536.0000 - mse: 1727233536.0000\n",
            "Epoch 10/10\n",
            "1/1 [==============================] - 0s 8ms/step - loss: 1727233536.0000 - mse: 1727233536.0000\n"
          ],
          "name": "stdout"
        },
        {
          "output_type": "execute_result",
          "data": {
            "text/plain": [
              "<keras.callbacks.History at 0x7f172bc656d0>"
            ]
          },
          "metadata": {},
          "execution_count": 309
        }
      ]
    },
    {
      "cell_type": "code",
      "metadata": {
        "colab": {
          "base_uri": "https://localhost:8080/"
        },
        "id": "Ygt7obvR6IBG",
        "outputId": "87f15006-969a-42ef-ae84-da799282611c"
      },
      "source": [
        "x_test, y_test, = arrange(test, 15)\n",
        "print (\"x-test is: {} and  y-test is: {}\".format(x_test.shape, y_test.shape))"
      ],
      "execution_count": 310,
      "outputs": [
        {
          "output_type": "stream",
          "text": [
            "x-test is: (1, 14, 1) and  y-test is: (1, 1, 1)\n"
          ],
          "name": "stdout"
        }
      ]
    },
    {
      "cell_type": "code",
      "metadata": {
        "colab": {
          "base_uri": "https://localhost:8080/"
        },
        "id": "zPby_AMITli8",
        "outputId": "8931b32b-06ff-47b4-8b71-a2d85a0ccdb5"
      },
      "source": [
        "print(x_test[0])\n",
        "print(y_test[0])"
      ],
      "execution_count": 311,
      "outputs": [
        {
          "output_type": "stream",
          "text": [
            "[[21170]\n",
            " [20770]\n",
            " [20710]\n",
            " [20880]\n",
            " [21330]\n",
            " [20840]\n",
            " [20910]\n",
            " [20120]\n",
            " [20260]\n",
            " [19860]\n",
            " [19700]\n",
            " [19460]\n",
            " [19360]\n",
            " [19420]]\n",
            "[[18990]]\n"
          ],
          "name": "stdout"
        }
      ]
    },
    {
      "cell_type": "code",
      "metadata": {
        "colab": {
          "base_uri": "https://localhost:8080/"
        },
        "id": "ox9agzvJcwcl",
        "outputId": "f090dd63-59f2-48f4-f6be-3a1b1a1375eb"
      },
      "source": [
        "x_test, y_test, = arrange(test, 15) \n",
        "pred = Netp.predict(x_test) \n",
        "pred"
      ],
      "execution_count": 312,
      "outputs": [
        {
          "output_type": "execute_result",
          "data": {
            "text/plain": [
              "array([[0.]], dtype=float32)"
            ]
          },
          "metadata": {},
          "execution_count": 312
        }
      ]
    },
    {
      "cell_type": "code",
      "metadata": {
        "colab": {
          "base_uri": "https://localhost:8080/",
          "height": 265
        },
        "id": "D1M4RC40VbtD",
        "outputId": "d6ae25f0-47ee-483f-f656-007968614093"
      },
      "source": [
        "plot_series([pred[:,0]])"
      ],
      "execution_count": 313,
      "outputs": [
        {
          "output_type": "display_data",
          "data": {
            "image/png": "[encoded data removed]",
            "text/plain": [
              "<Figure size 432x288 with 1 Axes>"
            ]
          },
          "metadata": {
            "needs_background": "light"
          }
        }
      ]
    },
    {
      "cell_type": "code",
      "metadata": {
        "colab": {
          "base_uri": "https://localhost:8080/",
          "height": 265
        },
        "id": "LfygVn6rVb94",
        "outputId": "e8ee27bb-4140-4337-cb35-9e38908c3db6"
      },
      "source": [
        "plot_series(y_test[:,:,0])"
      ],
      "execution_count": 314,
      "outputs": [
        {
          "output_type": "display_data",
          "data": {
            "image/png": "[encoded data removed]",
            "text/plain": [
              "<Figure size 432x288 with 1 Axes>"
            ]
          },
          "metadata": {
            "needs_background": "light"
          }
        }
      ]
    },
    {
      "cell_type": "code",
      "metadata": {
        "colab": {
          "base_uri": "https://localhost:8080/",
          "height": 265
        },
        "id": "J13WogzRfihX",
        "outputId": "b8996a87-0251-476b-8537-3910af1eb9b1"
      },
      "source": [
        "plot_series([pred[:,0],y_test[:,:,0]])"
      ],
      "execution_count": 315,
      "outputs": [
        {
          "output_type": "display_data",
          "data": {
            "image/png": "[encoded data removed]",
            "text/plain": [
              "<Figure size 432x288 with 1 Axes>"
            ]
          },
          "metadata": {
            "needs_background": "light"
          }
        }
      ]
    }
  ]
}